{
 "cells": [
  {
   "cell_type": "markdown",
   "metadata": {},
   "source": [
    "# STS Similarity - Visualizations"
   ]
  },
  {
   "cell_type": "code",
   "execution_count": 1,
   "metadata": {
    "collapsed": false
   },
   "outputs": [
    {
     "name": "stderr",
     "output_type": "stream",
     "text": [
      "Using TensorFlow backend.\n"
     ]
    }
   ],
   "source": [
    "from __future__ import division, print_function\n",
    "from keras import backend as K\n",
    "from keras.models import load_model, model_from_json\n",
    "from keras.preprocessing.sequence import pad_sequences\n",
    "from keras.utils import np_utils\n",
    "import matplotlib.pyplot as plt\n",
    "import nltk\n",
    "import numpy as np\n",
    "import os\n",
    "\n",
    "import custom_attn\n",
    "\n",
    "%matplotlib inline"
   ]
  },
  {
   "cell_type": "code",
   "execution_count": 2,
   "metadata": {
    "collapsed": true
   },
   "outputs": [],
   "source": [
    "DATA_DIR = \"../data\"\n",
    "\n",
    "# word to id lookup\n",
    "VOCAB_FILE = os.path.join(DATA_DIR, \"sts-vocab.tsv\")\n",
    "# id to vector lookup\n",
    "GLOVE_FILE = os.path.join(DATA_DIR, \"glove.840B.300d.txt\")\n",
    "\n",
    "MIN_OCCURS = 2\n",
    "MAX_WORDS = 35\n",
    "\n",
    "WORD_EMBED_SIZE = 300\n",
    "SENT_EMBED_SIZE = 200\n",
    "\n",
    "BEST_MODEL = os.path.join(DATA_DIR, \"models\", \"07b-best-model.h5\")\n",
    "BEST_MODEL_JSON = os.path.join(DATA_DIR, \"models\", \"07b-best-model.json\")"
   ]
  },
  {
   "cell_type": "code",
   "execution_count": 3,
   "metadata": {
    "collapsed": true
   },
   "outputs": [],
   "source": [
    "# sent_l = \"A man is riding a bicycle.\"\n",
    "# sent_r = \"A man is riding a bike.\"\n",
    "# label_sim = 5.0\n",
    "# # pred_sim = 0.142, -0.807\n",
    "\n",
    "# sent_l = \"A woman is playing the flute.\"\n",
    "# sent_r = \"A man is playing a flute.\"\n",
    "# label_sim = 2.4\n",
    "# # pred_sim = 0.032, -0.012\n",
    "\n",
    "sent_l = \"A man is cutting a potato.\"\n",
    "sent_r = \"A woman is cutting a tomato.\"\n",
    "label_sim = 1.25\n",
    "# pred_sim = 0.15, -0.391"
   ]
  },
  {
   "cell_type": "markdown",
   "metadata": {},
   "source": [
    "## Visualize Inputs\n",
    "\n",
    "### Load Word Embeddings"
   ]
  },
  {
   "cell_type": "code",
   "execution_count": 4,
   "metadata": {
    "collapsed": false
   },
   "outputs": [
    {
     "name": "stdout",
     "output_type": "stream",
     "text": [
      "vocab_size: 6942\n"
     ]
    }
   ],
   "source": [
    "word2id = {\"PAD\": 0, \"UNK\": 1}\n",
    "fvocab = open(VOCAB_FILE, \"rb\")\n",
    "for i, line in enumerate(fvocab):\n",
    "    word, count = line.strip().split(\"\\t\")\n",
    "    if int(count) < MIN_OCCURS:\n",
    "        break\n",
    "    word2id[word] = i\n",
    "fvocab.close()\n",
    "id2word = {v:k for k, v in word2id.items()}\n",
    "vocab_size = len(word2id)\n",
    "print(\"vocab_size: {:d}\".format(vocab_size))"
   ]
  },
  {
   "cell_type": "code",
   "execution_count": 5,
   "metadata": {
    "collapsed": false
   },
   "outputs": [
    {
     "name": "stdout",
     "output_type": "stream",
     "text": [
      "(6942, 300)\n"
     ]
    }
   ],
   "source": [
    "E = np.zeros((vocab_size, WORD_EMBED_SIZE))\n",
    "E[1] = np.random.random(WORD_EMBED_SIZE)\n",
    "fglove = open(GLOVE_FILE, \"rb\")\n",
    "for line in fglove:\n",
    "    cols = line.strip().split(\" \")\n",
    "    word = cols[0]\n",
    "    if not word2id.has_key(word):\n",
    "        continue\n",
    "    vec = np.array([float(x) for x in cols[1:]])\n",
    "    idx = word2id[word]\n",
    "    E[idx] = vec\n",
    "fglove.close()\n",
    "print(E.shape)"
   ]
  },
  {
   "cell_type": "markdown",
   "metadata": {},
   "source": [
    "### Define some functions"
   ]
  },
  {
   "cell_type": "code",
   "execution_count": 6,
   "metadata": {
    "collapsed": true
   },
   "outputs": [],
   "source": [
    "def convert_to_sequence(sent, word2id, padding_length=0):\n",
    "    int_seq = []\n",
    "    sent = sent.decode(\"utf8\").encode(\"ascii\", \"ignore\").lower()\n",
    "    for word in nltk.word_tokenize(sent):\n",
    "        if word2id.has_key(word):\n",
    "            int_seq.append(word2id[word])\n",
    "        else:\n",
    "            int_seq.append(word2id[\"UNK\"])\n",
    "    if padding_length > 0:\n",
    "        return pad_sequences([int_seq], maxlen=padding_length)[0]\n",
    "    else:\n",
    "        return int_seq\n",
    "\n",
    "def convert_to_onehot(sent, word2id, padding_length, vocab_size):\n",
    "    int_seq = convert_to_sequence(sent, word2id, padding_length)\n",
    "    return np_utils.to_categorical(int_seq, num_classes=vocab_size)\n",
    "\n",
    "def plot_alignment_matrix(align, sent_l, sent_r, title, \n",
    "                          truncate=True, legend=True, show=True):\n",
    "    words_l = nltk.word_tokenize(sent_l)\n",
    "    len_l = len(words_l)\n",
    "    words_r = nltk.word_tokenize(sent_r)\n",
    "    len_r = len(words_r)\n",
    "    if truncate:\n",
    "        max_len = len_l if len_l > len_r else len_r\n",
    "        align = align[-max_len:, -max_len:]\n",
    "    plt.imshow(align, cmap='Blues_r', interpolation='nearest')\n",
    "    sim = np.sum(np.diag(align)) / np.sum(align)\n",
    "    plt.title(\"{:s} (similarity: {:.3f})\".format(title, sim))\n",
    "    plt.yticks(np.arange(len(words_r)), words_r)\n",
    "    plt.xticks(np.arange(len(words_l)), words_l, rotation=\"45\")\n",
    "    if legend: \n",
    "        plt.colorbar()\n",
    "    if show:\n",
    "        plt.show()\n",
    "    \n",
    "def print_model_layers(model):\n",
    "    for layer in model.layers:\n",
    "        print(layer.name, layer.input_shape, layer.output_shape)"
   ]
  },
  {
   "cell_type": "markdown",
   "metadata": {},
   "source": [
    "### Visualize Input Alignments (one-hot)"
   ]
  },
  {
   "cell_type": "code",
   "execution_count": 7,
   "metadata": {
    "collapsed": false
   },
   "outputs": [
    {
     "data": {
      "image/png": "[encoded data removed]",
      "text/plain": [
       "<matplotlib.figure.Figure at 0x11ee12390>"
      ]
     },
     "metadata": {},
     "output_type": "display_data"
    }
   ],
   "source": [
    "input_l = convert_to_onehot(sent_l, word2id, MAX_WORDS, vocab_size)\n",
    "input_r = convert_to_onehot(sent_r, word2id, MAX_WORDS, vocab_size)\n",
    "\n",
    "S_input = np.dot(input_l, input_r.T)\n",
    "plot_alignment_matrix(S_input, sent_l, sent_r, \"Inputs\")"
   ]
  },
  {
   "cell_type": "markdown",
   "metadata": {},
   "source": [
    "Some noteworthy points about the alignment based on the original sentence pair.\n",
    "\n",
    "* There is lot of word overlap, and this can be seen from the high values along the diagonal.\n",
    "* \"a\" occurs twice, so they appear off diagonal as well.\n",
    "* There is no correspondence between the word pairs (man, woman) and (potato, tomato) that are different.\n",
    "\n",
    "\n",
    "## Visualize Embeddings\n",
    "\n",
    "### Original (GloVe) Embeddings"
   ]
  },
  {
   "cell_type": "code",
   "execution_count": 8,
   "metadata": {
    "collapsed": false
   },
   "outputs": [
    {
     "data": {
      "image/png": "[encoded data removed]",
      "text/plain": [
       "<matplotlib.figure.Figure at 0x1205d4210>"
      ]
     },
     "metadata": {},
     "output_type": "display_data"
    }
   ],
   "source": [
    "glove_l = np.dot(input_l, E)\n",
    "glove_r = np.dot(input_r, E)\n",
    "\n",
    "S_glove = np.dot(glove_l, glove_r.T)\n",
    "S_glove /= np.max(S_glove)\n",
    "\n",
    "plot_alignment_matrix(S_glove, sent_l, sent_r, \"GloVe\")"
   ]
  },
  {
   "cell_type": "markdown",
   "metadata": {},
   "source": [
    "### Load Model"
   ]
  },
  {
   "cell_type": "code",
   "execution_count": 9,
   "metadata": {
    "collapsed": false
   },
   "outputs": [
    {
     "name": "stdout",
     "output_type": "stream",
     "text": [
      "input_2 (None, 35) (None, 35)\n",
      "input_3 (None, 35) (None, 35)\n",
      "model_1 (None, 35) (None, 35, 200)\n",
      "attention_mm_1 [(None, 35, 200), (None, 35, 200)] (None, 400)\n",
      "batch_normalization_1 (None, 400) (None, 400)\n",
      "dropout_1 (None, 400) (None, 400)\n",
      "dense_1 (None, 400) (None, 50)\n",
      "dropout_2 (None, 50) (None, 50)\n",
      "dense_2 (None, 50) (None, 6)\n"
     ]
    }
   ],
   "source": [
    "with open(BEST_MODEL_JSON, \"rb\") as fin:\n",
    "    model = model_from_json(fin.read(),\n",
    "        custom_objects={\"AttentionMM\": custom_attn.AttentionMM})\n",
    "model.load_weights(BEST_MODEL)\n",
    "print_model_layers(model)"
   ]
  },
  {
   "cell_type": "code",
   "execution_count": 10,
   "metadata": {
    "collapsed": false
   },
   "outputs": [
    {
     "name": "stdout",
     "output_type": "stream",
     "text": [
      "input_1 (None, 35) (None, 35)\n",
      "embedding_1 (None, 35) (None, 35, 300)\n",
      "masking_1 (None, 35, 300) (None, 35, 300)\n",
      "bidirectional_1 (None, 35, 300) (None, 35, 200)\n"
     ]
    }
   ],
   "source": [
    "sent_encoder = model.layers[2]\n",
    "print_model_layers(sent_encoder)"
   ]
  },
  {
   "cell_type": "markdown",
   "metadata": {},
   "source": [
    "### Extract fine-tuned Embedding Weights\n",
    "\n",
    "This will be used to transform the input sequence of one-hot word vectors to a sequence of word vectors looked up from the fine tuned embedding."
   ]
  },
  {
   "cell_type": "code",
   "execution_count": 11,
   "metadata": {
    "collapsed": false
   },
   "outputs": [
    {
     "name": "stdout",
     "output_type": "stream",
     "text": [
      "(6942, 300)\n"
     ]
    }
   ],
   "source": [
    "session = K.get_session()\n",
    "embedding_W = sent_encoder.layers[1].weights[0].eval(session)\n",
    "print(embedding_W.shape)"
   ]
  },
  {
   "cell_type": "markdown",
   "metadata": {},
   "source": [
    "### Visualize Embedding Alignments"
   ]
  },
  {
   "cell_type": "code",
   "execution_count": 12,
   "metadata": {
    "collapsed": false
   },
   "outputs": [
    {
     "data": {
      "image/png": "[encoded data removed]",
      "text/plain": [
       "<matplotlib.figure.Figure at 0x1204b0d90>"
      ]
     },
     "metadata": {},
     "output_type": "display_data"
    }
   ],
   "source": [
    "emb_l = np.dot(input_l, embedding_W)\n",
    "emb_r = np.dot(input_r, embedding_W)\n",
    "\n",
    "S_emb = np.dot(emb_l, emb_r.T)\n",
    "S_emb /= np.max(S_emb)\n",
    "\n",
    "plot_alignment_matrix(S_emb, sent_l, sent_r, \"GloVe finetuned\")"
   ]
  },
  {
   "cell_type": "markdown",
   "metadata": {},
   "source": [
    "Some noteworthy things about the output from the original sentence pair.\n",
    "\n",
    "* tomato and potato have high correspondence in GloVe space.\n",
    "* man and woman have slightly lower, but still high correspondence in GloVe space.\n",
    "* period seems to be very different from the other words.\n",
    "* \"a\", \"is\" have lower correspondence with themselves in GloVe space, most likely since they are stopwords and can occur with many other kinds of words.\n",
    "\n",
    "    \n",
    "## Visualize Encodings\n",
    "\n",
    "### Visualize Encoding Alignments\n",
    "\n",
    "This is the alignment of output of the sentence encoder. The sentence matrices correspond to the sentences whose embeddings have been trained through a bidirectional LSTM."
   ]
  },
  {
   "cell_type": "code",
   "execution_count": 13,
   "metadata": {
    "collapsed": false
   },
   "outputs": [
    {
     "name": "stderr",
     "output_type": "stream",
     "text": [
      "/Users/palsujit/anaconda2/lib/python2.7/site-packages/Keras-2.0.4-py2.7.egg/keras/backend/tensorflow_backend.py:2252: UserWarning: Expected no kwargs, you passed 1\n",
      "kwargs passed to function are ignored with Tensorflow backend\n",
      "  warnings.warn('\\n'.join(msg))\n"
     ]
    },
    {
     "data": {
      "image/png": "[encoded data removed]",
      "text/plain": [
       "<matplotlib.figure.Figure at 0x1204d4cd0>"
      ]
     },
     "metadata": {},
     "output_type": "display_data"
    }
   ],
   "source": [
    "intseq_l = convert_to_sequence(sent_l, word2id, MAX_WORDS)\n",
    "intseq_r = convert_to_sequence(sent_r, word2id, MAX_WORDS)\n",
    "inputs = np.array([intseq_l, intseq_r])\n",
    "enc_l, enc_r = sent_encoder.predict(inputs)\n",
    "\n",
    "S_enc = np.dot(enc_l, enc_r.T)\n",
    "S_enc /= np.max(S_enc)\n",
    "\n",
    "plot_alignment_matrix(S_enc, sent_l, sent_r, \"BiLSTM Encoder output\")"
   ]
  },
  {
   "cell_type": "markdown",
   "metadata": {},
   "source": [
    "## Visualize Attention (Parikh)\n",
    "\n",
    "In this section, we consider the matrices output from the encoder for each of the LHS and RHS sentences as inputs to the encoder. Alignment is computed using the encoder outputs, then the alignment weights applied to the same matrices, as shown [here](https://github.com/sujitpal/eeap-examples/blob/master/docs/eeap-3d-block.png).\n",
    "\n",
    "### Extract Attention Weights"
   ]
  },
  {
   "cell_type": "code",
   "execution_count": 14,
   "metadata": {
    "collapsed": false
   },
   "outputs": [
    {
     "name": "stdout",
     "output_type": "stream",
     "text": [
      "W1 (200, 200)\n",
      "b1 (35, 200)\n",
      "W2 (200, 200)\n",
      "b2 (35, 200)\n",
      "U1 (200, 200)\n",
      "U2 (200, 200)\n",
      "V1 (200, 200)\n",
      "V2 (200, 200)\n"
     ]
    }
   ],
   "source": [
    "att_tensors = model.layers[3].weights\n",
    "att_tensor_names = [\"W1\", \"b1\", \"W2\", \"b2\", \n",
    "                    \"U1\", \"U2\", \"V1\", \"V2\"]\n",
    "att_weights = {}\n",
    "for idx, att_tensor in enumerate(att_tensors):\n",
    "    att_weights[att_tensor_names[idx]] = att_tensor.eval(session)\n",
    "    print(att_tensor_names[idx], att_weights[att_tensor_names[idx]].shape)"
   ]
  },
  {
   "cell_type": "markdown",
   "metadata": {},
   "source": [
    "### Attention layer inputs"
   ]
  },
  {
   "cell_type": "code",
   "execution_count": 15,
   "metadata": {
    "collapsed": false
   },
   "outputs": [
    {
     "data": {
      "text/plain": [
       "((35, 200), (35, 200))"
      ]
     },
     "execution_count": 15,
     "metadata": {},
     "output_type": "execute_result"
    }
   ],
   "source": [
    "enc_l.shape, enc_r.shape"
   ]
  },
  {
   "cell_type": "markdown",
   "metadata": {},
   "source": [
    "### Compute alignment"
   ]
  },
  {
   "cell_type": "code",
   "execution_count": 16,
   "metadata": {
    "collapsed": false
   },
   "outputs": [],
   "source": [
    "def softmax(x):\n",
    "    \"\"\"Compute softmax values for each sets of scores in x.\"\"\"\n",
    "    e_x = np.exp(x - np.max(x))\n",
    "    return e_x / e_x.sum()"
   ]
  },
  {
   "cell_type": "code",
   "execution_count": 17,
   "metadata": {
    "collapsed": false
   },
   "outputs": [
    {
     "data": {
      "image/png": "[encoded data removed]",
      "text/plain": [
       "<matplotlib.figure.Figure at 0x120504b90>"
      ]
     },
     "metadata": {},
     "output_type": "display_data"
    }
   ],
   "source": [
    "et_l = np.tanh(np.dot(enc_l, att_weights[\"W1\"]) + att_weights[\"b1\"])\n",
    "et_r = np.tanh(np.dot(enc_r, att_weights[\"W2\"]) + att_weights[\"b2\"])\n",
    "\n",
    "S_align = softmax(np.dot(et_l, et_r.T))\n",
    "S_align /= np.max(S_align)\n",
    "\n",
    "plot_alignment_matrix(S_align, sent_l, sent_r, \"Parikh Attn Alignment\")"
   ]
  },
  {
   "cell_type": "code",
   "execution_count": 18,
   "metadata": {
    "collapsed": false
   },
   "outputs": [
    {
     "data": {
      "image/png": "[encoded data removed]",
      "text/plain": [
       "<matplotlib.figure.Figure at 0x1238333d0>"
      ]
     },
     "metadata": {},
     "output_type": "display_data"
    }
   ],
   "source": [
    "align_l = np.dot(S_align, enc_r)\n",
    "align_r = np.dot(S_align.T, enc_l)\n",
    "\n",
    "attout_l = np.tanh(np.dot(enc_l, att_weights[\"U1\"]) +\n",
    "                   np.dot(align_l, att_weights[\"V1\"]))\n",
    "attout_r = np.tanh(np.dot(enc_r, att_weights[\"U2\"]) +\n",
    "                   np.dot(align_r, att_weights[\"V2\"]))\n",
    "\n",
    "S_att = np.dot(attout_l, attout_r.T)\n",
    "S_att /= np.max(S_att)\n",
    "\n",
    "plot_alignment_matrix(S_att, sent_l, sent_r, \"Parikh Attn output\")"
   ]
  },
  {
   "cell_type": "markdown",
   "metadata": {
    "collapsed": true
   },
   "source": [
    "## Visualize Attention (Parikh) - take 2\n",
    "\n",
    "Here, instead of using the output of the encoder for alignment, we use the output of the embed step, since visually the embedding alignments appear to be more in line with human expectations.\n",
    "\n",
    "### Compute Attention (using Embedding alignment)"
   ]
  },
  {
   "cell_type": "code",
   "execution_count": 19,
   "metadata": {
    "collapsed": false
   },
   "outputs": [
    {
     "data": {
      "image/png": "[encoded data removed]",
      "text/plain": [
       "<matplotlib.figure.Figure at 0x12384e550>"
      ]
     },
     "metadata": {},
     "output_type": "display_data"
    }
   ],
   "source": [
    "align2_l = np.dot(S_emb, enc_r)\n",
    "align2_r = np.dot(S_emb.T, enc_l)\n",
    "\n",
    "attout2_l = np.tanh(np.dot(enc_l, att_weights[\"U1\"]) +\n",
    "                   np.dot(align2_l, att_weights[\"V1\"]))\n",
    "attout2_r = np.tanh(np.dot(enc_r, att_weights[\"U2\"]) +\n",
    "                   np.dot(align2_r, att_weights[\"V2\"]))\n",
    "\n",
    "S_att2 = np.dot(attout2_l, attout2_r.T)\n",
    "S_att2 /= np.max(S_att2)\n",
    "\n",
    "plot_alignment_matrix(S_att2, sent_l, sent_r, \"Parikh Attn output #2\")"
   ]
  },
  {
   "cell_type": "code",
   "execution_count": null,
   "metadata": {
    "collapsed": true
   },
   "outputs": [],
   "source": []
  }
 ],
 "metadata": {
  "kernelspec": {
   "display_name": "Python 2",
   "language": "python",
   "name": "python2"
  },
  "language_info": {
   "codemirror_mode": {
    "name": "ipython",
    "version": 2
   },
   "file_extension": ".py",
   "mimetype": "text/x-python",
   "name": "python",
   "nbconvert_exporter": "python",
   "pygments_lexer": "ipython2",
   "version": "2.7.13"
  }
 },
 "nbformat": 4,
 "nbformat_minor": 2
}
