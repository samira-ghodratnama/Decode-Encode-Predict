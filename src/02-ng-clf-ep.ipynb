{
 "cells": [
  {
   "cell_type": "markdown",
   "metadata": {},
   "source": [
    "# Embed and Predict (BoW)\n",
    "\n",
    "We treat each document as a Bag of Words (BoW), and just average the GloVe word embeddings to create document vectors, and run them through a 2 layer classifier network."
   ]
  },
  {
   "cell_type": "code",
   "execution_count": 1,
   "metadata": {},
   "outputs": [
    {
     "name": "stderr",
     "output_type": "stream",
     "text": [
      "Using TensorFlow backend.\n"
     ]
    }
   ],
   "source": [
    "from __future__ import division, print_function\n",
    "from keras.layers import Input\n",
    "from keras.layers.core import Dense, Dropout\n",
    "from keras.models import Model\n",
    "from keras.optimizers import Adam\n",
    "from keras.utils import to_categorical\n",
    "from sklearn.datasets import fetch_20newsgroups\n",
    "from sklearn.linear_model import SGDClassifier\n",
    "from sklearn.metrics import accuracy_score, confusion_matrix\n",
    "from sklearn.model_selection import train_test_split\n",
    "import matplotlib.pyplot as plt\n",
    "import nltk\n",
    "import numpy as np\n",
    "import logging\n",
    "import os\n",
    "%matplotlib inline"
   ]
  },
  {
   "cell_type": "code",
   "execution_count": 2,
   "metadata": {
    "collapsed": true
   },
   "outputs": [],
   "source": [
    "DATA_DIR = \"../data\"\n",
    "\n",
    "VOCAB_FILE = os.path.join(DATA_DIR, \"ng-vocab.tsv\")\n",
    "MIN_OCCURS = 5\n",
    "\n",
    "GLOVE_FILE = os.path.join(DATA_DIR, \"glove.840B.300d.txt\")\n",
    "WORD_EMBED_SIZE = 300\n",
    "\n",
    "NUM_CLASSES = 20\n",
    "BATCH_SIZE = 64\n",
    "NUM_EPOCHS = 10\n",
    "\n",
    "logging.basicConfig()"
   ]
  },
  {
   "cell_type": "markdown",
   "metadata": {},
   "source": [
    "## Load Vocabulary"
   ]
  },
  {
   "cell_type": "code",
   "execution_count": 3,
   "metadata": {},
   "outputs": [
    {
     "name": "stdout",
     "output_type": "stream",
     "text": [
      "vocab_size: 40730\n"
     ]
    }
   ],
   "source": [
    "word2id = {\"PAD\": 0, \"UNK\": 1}\n",
    "fvocab = open(VOCAB_FILE, \"rb\")\n",
    "for i, line in enumerate(fvocab):\n",
    "    word, count = line.strip().split(\"\\t\")\n",
    "    if int(count) <= MIN_OCCURS:\n",
    "        break\n",
    "    word2id[word] = i\n",
    "fvocab.close()\n",
    "id2word = {v:k for k, v in word2id.items()}\n",
    "vocab_size = len(word2id)\n",
    "print(\"vocab_size: {:d}\".format(vocab_size))"
   ]
  },
  {
   "cell_type": "markdown",
   "metadata": {},
   "source": [
    "## Load GloVe embeddings"
   ]
  },
  {
   "cell_type": "code",
   "execution_count": 4,
   "metadata": {},
   "outputs": [
    {
     "name": "stdout",
     "output_type": "stream",
     "text": [
      "(40730, 300)\n"
     ]
    }
   ],
   "source": [
    "E = np.zeros((vocab_size, WORD_EMBED_SIZE))\n",
    "E[1] = np.random.random(WORD_EMBED_SIZE)\n",
    "fglove = open(GLOVE_FILE, \"rb\")\n",
    "for line in fglove:\n",
    "    cols = line.strip().split(\" \")\n",
    "    word = cols[0]\n",
    "    if not word2id.has_key(word):\n",
    "        continue\n",
    "    vec = np.array([float(x) for x in cols[1:]])\n",
    "    idx = word2id[word]\n",
    "    E[idx] = vec\n",
    "fglove.close()\n",
    "print(E.shape)"
   ]
  },
  {
   "cell_type": "markdown",
   "metadata": {},
   "source": [
    "## Compute Document Vectors"
   ]
  },
  {
   "cell_type": "code",
   "execution_count": 5,
   "metadata": {},
   "outputs": [
    {
     "name": "stdout",
     "output_type": "stream",
     "text": [
      "18846\n"
     ]
    }
   ],
   "source": [
    "ng_data = fetch_20newsgroups(subset='all',\n",
    "                             data_home=DATA_DIR,\n",
    "                             shuffle=True, \n",
    "                             random_state=42)\n",
    "num_docs = len(ng_data.data)\n",
    "print(num_docs)"
   ]
  },
  {
   "cell_type": "code",
   "execution_count": 6,
   "metadata": {},
   "outputs": [
    {
     "name": "stdout",
     "output_type": "stream",
     "text": [
      "(18846, 300)\n"
     ]
    }
   ],
   "source": [
    "D = np.zeros((num_docs, WORD_EMBED_SIZE))\n",
    "for i, text in enumerate(ng_data.data):\n",
    "    doc_vec = np.zeros(WORD_EMBED_SIZE)\n",
    "    num_words = 0\n",
    "    for sent in nltk.sent_tokenize(text):\n",
    "        sent = sent.encode(\"utf8\").decode(\"ascii\", \"ignore\").lower()\n",
    "        for word in nltk.word_tokenize(sent):\n",
    "            try:\n",
    "                doc_vec += E[word2id[word]]\n",
    "            except KeyError:\n",
    "                doc_vec += E[word2id[\"UNK\"]]\n",
    "            num_words += 1\n",
    "    doc_vec /= num_words\n",
    "    D[i] = doc_vec\n",
    "print(D.shape)"
   ]
  },
  {
   "cell_type": "markdown",
   "metadata": {},
   "source": [
    "## Data Generation"
   ]
  },
  {
   "cell_type": "code",
   "execution_count": 7,
   "metadata": {},
   "outputs": [
    {
     "name": "stdout",
     "output_type": "stream",
     "text": [
      "(18846, 20)\n"
     ]
    }
   ],
   "source": [
    "y = ng_data.target\n",
    "Y = to_categorical(y, num_classes=NUM_CLASSES)\n",
    "print(Y.shape)"
   ]
  },
  {
   "cell_type": "code",
   "execution_count": 8,
   "metadata": {},
   "outputs": [
    {
     "name": "stdout",
     "output_type": "stream",
     "text": [
      "(13192, 300) (13192, 20) (5654, 300) (5654, 20)\n"
     ]
    }
   ],
   "source": [
    "Xtrain, Xtest, Ytrain, Ytest = train_test_split(D, Y, train_size=0.7)\n",
    "print(Xtrain.shape, Ytrain.shape, Xtest.shape, Ytest.shape)"
   ]
  },
  {
   "cell_type": "markdown",
   "metadata": {},
   "source": [
    "## Define Network"
   ]
  },
  {
   "cell_type": "code",
   "execution_count": 9,
   "metadata": {
    "collapsed": true
   },
   "outputs": [],
   "source": [
    "inputs = Input(shape=(WORD_EMBED_SIZE, ))\n",
    "fc1 = Dense(100, activation=\"relu\")(inputs)\n",
    "fc1_dropout = Dropout(0.2)(fc1)\n",
    "fc2 = Dense(50, activation=\"relu\")(fc1_dropout)\n",
    "fc2_dropout = Dropout(0.2)(fc2)\n",
    "outputs = Dense(NUM_CLASSES, activation=\"softmax\")(fc1_dropout)"
   ]
  },
  {
   "cell_type": "code",
   "execution_count": 10,
   "metadata": {
    "collapsed": true
   },
   "outputs": [],
   "source": [
    "model = Model(inputs=inputs, outputs=outputs)"
   ]
  },
  {
   "cell_type": "code",
   "execution_count": 11,
   "metadata": {
    "collapsed": true
   },
   "outputs": [],
   "source": [
    "model.compile(optimizer=\"adam\", loss=\"categorical_crossentropy\",\n",
    "             metrics=[\"accuracy\"])"
   ]
  },
  {
   "cell_type": "code",
   "execution_count": 12,
   "metadata": {},
   "outputs": [
    {
     "name": "stdout",
     "output_type": "stream",
     "text": [
      "_________________________________________________________________\n",
      "Layer (type)                 Output Shape              Param #   \n",
      "=================================================================\n",
      "input_1 (InputLayer)         (None, 300)               0         \n",
      "_________________________________________________________________\n",
      "dense_1 (Dense)              (None, 100)               30100     \n",
      "_________________________________________________________________\n",
      "dropout_1 (Dropout)          (None, 100)               0         \n",
      "_________________________________________________________________\n",
      "dense_3 (Dense)              (None, 20)                2020      \n",
      "=================================================================\n",
      "Total params: 32,120\n",
      "Trainable params: 32,120\n",
      "Non-trainable params: 0\n",
      "_________________________________________________________________\n"
     ]
    }
   ],
   "source": [
    "model.summary()"
   ]
  },
  {
   "cell_type": "markdown",
   "metadata": {},
   "source": [
    "## Train Network"
   ]
  },
  {
   "cell_type": "code",
   "execution_count": 13,
   "metadata": {},
   "outputs": [
    {
     "name": "stdout",
     "output_type": "stream",
     "text": [
      "Train on 11872 samples, validate on 1320 samples\n",
      "Epoch 1/10\n",
      "11872/11872 [==============================] - 2s - loss: 2.6907 - acc: 0.2385 - val_loss: 2.3097 - val_acc: 0.3818\n",
      "Epoch 2/10\n",
      "11872/11872 [==============================] - 0s - loss: 2.0036 - acc: 0.4430 - val_loss: 1.7424 - val_acc: 0.5091\n",
      "Epoch 3/10\n",
      "11872/11872 [==============================] - 0s - loss: 1.6072 - acc: 0.5278 - val_loss: 1.4572 - val_acc: 0.5742\n",
      "Epoch 4/10\n",
      "11872/11872 [==============================] - 0s - loss: 1.3941 - acc: 0.5808 - val_loss: 1.3005 - val_acc: 0.6189\n",
      "Epoch 5/10\n",
      "11872/11872 [==============================] - 0s - loss: 1.2639 - acc: 0.6097 - val_loss: 1.2009 - val_acc: 0.6295\n",
      "Epoch 6/10\n",
      "11872/11872 [==============================] - 0s - loss: 1.1722 - acc: 0.6356 - val_loss: 1.1310 - val_acc: 0.6348\n",
      "Epoch 7/10\n",
      "11872/11872 [==============================] - 0s - loss: 1.1092 - acc: 0.6579 - val_loss: 1.0745 - val_acc: 0.6455\n",
      "Epoch 8/10\n",
      "11872/11872 [==============================] - 0s - loss: 1.0548 - acc: 0.6715 - val_loss: 1.0276 - val_acc: 0.6735\n",
      "Epoch 9/10\n",
      "11872/11872 [==============================] - 0s - loss: 1.0079 - acc: 0.6862 - val_loss: 0.9958 - val_acc: 0.6795\n",
      "Epoch 10/10\n",
      "11872/11872 [==============================] - 0s - loss: 0.9730 - acc: 0.6916 - val_loss: 0.9741 - val_acc: 0.6917\n"
     ]
    }
   ],
   "source": [
    "history = model.fit(Xtrain, Ytrain, batch_size=BATCH_SIZE,\n",
    "                    epochs=NUM_EPOCHS, validation_split=0.1)"
   ]
  },
  {
   "cell_type": "code",
   "execution_count": 14,
   "metadata": {},
   "outputs": [
    {
     "data": {
      "image/png": "[encoded data removed]",
      "text/plain": [
       "<matplotlib.figure.Figure at 0x7f640c324b90>"
      ]
     },
     "metadata": {},
     "output_type": "display_data"
    }
   ],
   "source": [
    "plt.subplot(211)\n",
    "plt.title(\"accuracy\")\n",
    "plt.plot(history.history[\"acc\"], color=\"r\", label=\"train\")\n",
    "plt.plot(history.history[\"val_acc\"], color=\"b\", label=\"val\")\n",
    "plt.legend(loc=\"best\")\n",
    "\n",
    "plt.subplot(212)\n",
    "plt.title(\"loss\")\n",
    "plt.plot(history.history[\"loss\"], color=\"r\", label=\"train\")\n",
    "plt.plot(history.history[\"val_loss\"], color=\"b\", label=\"val\")\n",
    "plt.legend(loc=\"best\")\n",
    "\n",
    "plt.tight_layout()\n",
    "plt.show()"
   ]
  },
  {
   "cell_type": "markdown",
   "metadata": {},
   "source": [
    "## Evaluate Network"
   ]
  },
  {
   "cell_type": "code",
   "execution_count": 15,
   "metadata": {},
   "outputs": [
    {
     "name": "stdout",
     "output_type": "stream",
     "text": [
      "accuracy score: 0.714\n",
      "\n",
      "confusion matrix\n",
      "\n",
      "[[154   0   0   0   0   1   0   0   6   0   0   1   0   9   6  22   9  11  21   5]\n",
      " [  2 176  43   9   4  25   3   0   6   0   0   5   1   4  11   0   0   0   1   0]\n",
      " [  2  13 190  28   9  32   1   0   2   0   1   3   0   0   2   0   0   0   0   0]\n",
      " [  0   8  44 151  49   7   8   3   4   1   0   1  21   3   1   0   0   0   0   0]\n",
      " [  0  11  39  53 144   8  14   4   0   0   0   2  16   1   0   0   0   0   0   0]\n",
      " [  0  41  32   4   2 202   0   0   1   1   0   1   2   3   3   0   0   1   0   0]\n",
      " [  1   4  11  22   6   3 213  13  18   0   3   4   9   4   3   0   1   0   0   0]\n",
      " [  1   1   2   0   1   3   4 216  40   0   1   1   8   2   2   0  11   0   2   0]\n",
      " [  0   0   0   0   0   2   4   8 272   0   0   0   4   2   2   0   9   0   3   1]\n",
      " [  1   0   2   0   0   2   0   0   3 280  25   0   0   2   3   1   1   0   1   0]\n",
      " [  0   1   2   0   0   1   0   0   3   5 282   1   1   1   0   0   1   0   2   0]\n",
      " [  4   3   4   0   1   7   1   0   1   0   0 229   7   6   1   0  14   2  14   0]\n",
      " [  0  13  11  11  17   3  14   4   9   0   0  12 189   4   3   0   2   0   1   0]\n",
      " [  4   2   0   0   1   1   0   2   3   2   0   1   1 294   7   1   0   1   6   0]\n",
      " [  4   4   1   0   0   1   1   0   3   0   0   4   4   6 240   1   3   0   9   1]\n",
      " [ 37   0   1   0   0   1   0   0   0   1   0   2   1   4   1 235   0   4   3   1]\n",
      " [  5   0   1   0   0   0   2   0   7   1   0   3   0   0   1   0 192   4  33   0]\n",
      " [  7   0   0   0   1   3   0   1   1   1   0   2   2   1   0   8   5 237  13   0]\n",
      " [ 14   0   1   0   0   0   0   1   4   2   1   2   0   5   3   0  40   5 126   0]\n",
      " [ 69   0   0   0   0   1   0   0   3   0   0   0   0  10   3  62  19   2   9  13]]\n"
     ]
    }
   ],
   "source": [
    "np.set_printoptions(linewidth=120)\n",
    "Ytest_ = model.predict(Xtest)\n",
    "ytest_ = np.argmax(Ytest_, axis=1)\n",
    "ytest = np.argmax(Ytest, axis=1)\n",
    "print(\"accuracy score: {:.3f}\".format(accuracy_score(ytest, ytest_)))\n",
    "print(\"\\nconfusion matrix\\n\")\n",
    "print(confusion_matrix(ytest, ytest_))"
   ]
  },
  {
   "cell_type": "code",
   "execution_count": null,
   "metadata": {
    "collapsed": true
   },
   "outputs": [],
   "source": []
  }
 ],
 "metadata": {
  "kernelspec": {
   "display_name": "Python 2",
   "language": "python",
   "name": "python2"
  },
  "language_info": {
   "codemirror_mode": {
    "name": "ipython",
    "version": 2
   },
   "file_extension": ".py",
   "mimetype": "text/x-python",
   "name": "python",
   "nbconvert_exporter": "python",
   "pygments_lexer": "ipython2",
   "version": "2.7.6"
  }
 },
 "nbformat": 4,
 "nbformat_minor": 2
}
